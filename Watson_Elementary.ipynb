{
  "nbformat": 4,
  "nbformat_minor": 0,
  "metadata": {
    "colab": {
      "provenance": []
    },
    "kernelspec": {
      "name": "python3",
      "display_name": "Python 3"
    },
    "language_info": {
      "name": "python"
    }
  },
  "cells": [
    {
      "cell_type": "markdown",
      "source": [
        "#Import library "
      ],
      "metadata": {
        "id": "rtQQhNKtRbc_"
      }
    },
    {
      "cell_type": "code",
      "source": [
        "import numpy as np\n",
        "import pandas as pd"
      ],
      "metadata": {
        "id": "mCsAGAegRlrs"
      },
      "execution_count": 22,
      "outputs": []
    },
    {
      "cell_type": "code",
      "source": [],
      "metadata": {
        "id": "ccVJEloURssN"
      },
      "execution_count": null,
      "outputs": []
    },
    {
      "cell_type": "markdown",
      "source": [
        "# Download data"
      ],
      "metadata": {
        "id": "5UbLzfnpRt0L"
      }
    },
    {
      "cell_type": "code",
      "source": [
        "#! pip install -q kaggle\n",
        "#from google.colab import files\n",
        "#files.upload()\n",
        "#! mkdir ~/.kaggle\n",
        "#! cp kaggle.json ~/.kaggle/\n",
        "#! kaggle datasets list"
      ],
      "metadata": {
        "id": "KptkznOwQPNS"
      },
      "execution_count": 2,
      "outputs": []
    },
    {
      "cell_type": "code",
      "source": [
        "#! kaggle competitions download -c contradictory-my-dear-watson\n",
        "#! chmod 600 /root/.kaggle/kaggle.json\n",
        "#! mkdir train\n",
        "#! unzip train.zip -d train"
      ],
      "metadata": {
        "colab": {
          "base_uri": "https://localhost:8080/"
        },
        "id": "UjeAdtp1QlZP",
        "outputId": "555c2fc7-ea50-4a47-ab67-f61791ff46be"
      },
      "execution_count": 20,
      "outputs": [
        {
          "output_type": "stream",
          "name": "stdout",
          "text": [
            "Warning: Your Kaggle API key is readable by other users on this system! To fix this, you can run 'chmod 600 /root/.kaggle/kaggle.json'\n",
            "403 - Forbidden\n",
            "mkdir: cannot create directory ‘train’: File exists\n",
            "unzip:  cannot find or open train.zip, train.zip.zip or train.zip.ZIP.\n"
          ]
        }
      ]
    },
    {
      "cell_type": "code",
      "source": [
        "train = pd.read_csv('/train.csv')\n",
        "train"
      ],
      "metadata": {
        "id": "po7ajeSrRwRf",
        "colab": {
          "base_uri": "https://localhost:8080/",
          "height": 589
        },
        "outputId": "b41f61f8-9933-478f-eb2c-9a63d09cd8df"
      },
      "execution_count": 26,
      "outputs": [
        {
          "output_type": "execute_result",
          "data": {
            "text/plain": [
              "               id                                            premise  \\\n",
              "0      5130fd2cb5  and these comments were considered in formulat...   \n",
              "1      5b72532a0b  These are issues that we wrestle with in pract...   \n",
              "2      3931fbe82a  Des petites choses comme celles-là font une di...   \n",
              "3      5622f0c60b  you know they can't really defend themselves l...   \n",
              "4      86aaa48b45  ในการเล่นบทบาทสมมุติก็เช่นกัน โอกาสที่จะได้แสด...   \n",
              "...           ...                                                ...   \n",
              "12115  2b78e2a914  The results of even the most well designed epi...   \n",
              "12116  7e9943d152  But there are two kinds of  the pleasure of do...   \n",
              "12117  5085923e6c  The important thing is to realize that it's wa...   \n",
              "12118  fc8e2fd1fe  At the west end is a detailed model of the who...   \n",
              "12119  44301dfb14  For himself he chose Atat??rk, or Father of th...   \n",
              "\n",
              "                                              hypothesis lang_abv language  \\\n",
              "0      The rules developed in the interim were put to...       en  English   \n",
              "1      Practice groups are not permitted to work on t...       en  English   \n",
              "2                  J'essayais d'accomplir quelque chose.       fr   French   \n",
              "3      They can't defend themselves because of their ...       en  English   \n",
              "4        เด็กสามารถเห็นได้ว่าชาติพันธุ์แตกต่างกันอย่างไร       th     Thai   \n",
              "...                                                  ...      ...      ...   \n",
              "12115  All studies have the same amount of uncertaint...       en  English   \n",
              "12116  But there are two kinds of the pleasure of doi...       en  English   \n",
              "12117                   It cannot be moved, now or ever.       en  English   \n",
              "12118       The model temple complex is at the east end.       en  English   \n",
              "12119      Ataturk was the father of the Turkish nation.       en  English   \n",
              "\n",
              "       label  \n",
              "0          0  \n",
              "1          2  \n",
              "2          0  \n",
              "3          0  \n",
              "4          1  \n",
              "...      ...  \n",
              "12115      2  \n",
              "12116      0  \n",
              "12117      2  \n",
              "12118      2  \n",
              "12119      0  \n",
              "\n",
              "[12120 rows x 6 columns]"
            ],
            "text/html": [
              "\n",
              "  <div id=\"df-ceffb7ae-63d4-45a8-b3ff-25a570de036e\">\n",
              "    <div class=\"colab-df-container\">\n",
              "      <div>\n",
              "<style scoped>\n",
              "    .dataframe tbody tr th:only-of-type {\n",
              "        vertical-align: middle;\n",
              "    }\n",
              "\n",
              "    .dataframe tbody tr th {\n",
              "        vertical-align: top;\n",
              "    }\n",
              "\n",
              "    .dataframe thead th {\n",
              "        text-align: right;\n",
              "    }\n",
              "</style>\n",
              "<table border=\"1\" class=\"dataframe\">\n",
              "  <thead>\n",
              "    <tr style=\"text-align: right;\">\n",
              "      <th></th>\n",
              "      <th>id</th>\n",
              "      <th>premise</th>\n",
              "      <th>hypothesis</th>\n",
              "      <th>lang_abv</th>\n",
              "      <th>language</th>\n",
              "      <th>label</th>\n",
              "    </tr>\n",
              "  </thead>\n",
              "  <tbody>\n",
              "    <tr>\n",
              "      <th>0</th>\n",
              "      <td>5130fd2cb5</td>\n",
              "      <td>and these comments were considered in formulat...</td>\n",
              "      <td>The rules developed in the interim were put to...</td>\n",
              "      <td>en</td>\n",
              "      <td>English</td>\n",
              "      <td>0</td>\n",
              "    </tr>\n",
              "    <tr>\n",
              "      <th>1</th>\n",
              "      <td>5b72532a0b</td>\n",
              "      <td>These are issues that we wrestle with in pract...</td>\n",
              "      <td>Practice groups are not permitted to work on t...</td>\n",
              "      <td>en</td>\n",
              "      <td>English</td>\n",
              "      <td>2</td>\n",
              "    </tr>\n",
              "    <tr>\n",
              "      <th>2</th>\n",
              "      <td>3931fbe82a</td>\n",
              "      <td>Des petites choses comme celles-là font une di...</td>\n",
              "      <td>J'essayais d'accomplir quelque chose.</td>\n",
              "      <td>fr</td>\n",
              "      <td>French</td>\n",
              "      <td>0</td>\n",
              "    </tr>\n",
              "    <tr>\n",
              "      <th>3</th>\n",
              "      <td>5622f0c60b</td>\n",
              "      <td>you know they can't really defend themselves l...</td>\n",
              "      <td>They can't defend themselves because of their ...</td>\n",
              "      <td>en</td>\n",
              "      <td>English</td>\n",
              "      <td>0</td>\n",
              "    </tr>\n",
              "    <tr>\n",
              "      <th>4</th>\n",
              "      <td>86aaa48b45</td>\n",
              "      <td>ในการเล่นบทบาทสมมุติก็เช่นกัน โอกาสที่จะได้แสด...</td>\n",
              "      <td>เด็กสามารถเห็นได้ว่าชาติพันธุ์แตกต่างกันอย่างไร</td>\n",
              "      <td>th</td>\n",
              "      <td>Thai</td>\n",
              "      <td>1</td>\n",
              "    </tr>\n",
              "    <tr>\n",
              "      <th>...</th>\n",
              "      <td>...</td>\n",
              "      <td>...</td>\n",
              "      <td>...</td>\n",
              "      <td>...</td>\n",
              "      <td>...</td>\n",
              "      <td>...</td>\n",
              "    </tr>\n",
              "    <tr>\n",
              "      <th>12115</th>\n",
              "      <td>2b78e2a914</td>\n",
              "      <td>The results of even the most well designed epi...</td>\n",
              "      <td>All studies have the same amount of uncertaint...</td>\n",
              "      <td>en</td>\n",
              "      <td>English</td>\n",
              "      <td>2</td>\n",
              "    </tr>\n",
              "    <tr>\n",
              "      <th>12116</th>\n",
              "      <td>7e9943d152</td>\n",
              "      <td>But there are two kinds of  the pleasure of do...</td>\n",
              "      <td>But there are two kinds of the pleasure of doi...</td>\n",
              "      <td>en</td>\n",
              "      <td>English</td>\n",
              "      <td>0</td>\n",
              "    </tr>\n",
              "    <tr>\n",
              "      <th>12117</th>\n",
              "      <td>5085923e6c</td>\n",
              "      <td>The important thing is to realize that it's wa...</td>\n",
              "      <td>It cannot be moved, now or ever.</td>\n",
              "      <td>en</td>\n",
              "      <td>English</td>\n",
              "      <td>2</td>\n",
              "    </tr>\n",
              "    <tr>\n",
              "      <th>12118</th>\n",
              "      <td>fc8e2fd1fe</td>\n",
              "      <td>At the west end is a detailed model of the who...</td>\n",
              "      <td>The model temple complex is at the east end.</td>\n",
              "      <td>en</td>\n",
              "      <td>English</td>\n",
              "      <td>2</td>\n",
              "    </tr>\n",
              "    <tr>\n",
              "      <th>12119</th>\n",
              "      <td>44301dfb14</td>\n",
              "      <td>For himself he chose Atat??rk, or Father of th...</td>\n",
              "      <td>Ataturk was the father of the Turkish nation.</td>\n",
              "      <td>en</td>\n",
              "      <td>English</td>\n",
              "      <td>0</td>\n",
              "    </tr>\n",
              "  </tbody>\n",
              "</table>\n",
              "<p>12120 rows × 6 columns</p>\n",
              "</div>\n",
              "      <button class=\"colab-df-convert\" onclick=\"convertToInteractive('df-ceffb7ae-63d4-45a8-b3ff-25a570de036e')\"\n",
              "              title=\"Convert this dataframe to an interactive table.\"\n",
              "              style=\"display:none;\">\n",
              "        \n",
              "  <svg xmlns=\"http://www.w3.org/2000/svg\" height=\"24px\"viewBox=\"0 0 24 24\"\n",
              "       width=\"24px\">\n",
              "    <path d=\"M0 0h24v24H0V0z\" fill=\"none\"/>\n",
              "    <path d=\"M18.56 5.44l.94 2.06.94-2.06 2.06-.94-2.06-.94-.94-2.06-.94 2.06-2.06.94zm-11 1L8.5 8.5l.94-2.06 2.06-.94-2.06-.94L8.5 2.5l-.94 2.06-2.06.94zm10 10l.94 2.06.94-2.06 2.06-.94-2.06-.94-.94-2.06-.94 2.06-2.06.94z\"/><path d=\"M17.41 7.96l-1.37-1.37c-.4-.4-.92-.59-1.43-.59-.52 0-1.04.2-1.43.59L10.3 9.45l-7.72 7.72c-.78.78-.78 2.05 0 2.83L4 21.41c.39.39.9.59 1.41.59.51 0 1.02-.2 1.41-.59l7.78-7.78 2.81-2.81c.8-.78.8-2.07 0-2.86zM5.41 20L4 18.59l7.72-7.72 1.47 1.35L5.41 20z\"/>\n",
              "  </svg>\n",
              "      </button>\n",
              "      \n",
              "  <style>\n",
              "    .colab-df-container {\n",
              "      display:flex;\n",
              "      flex-wrap:wrap;\n",
              "      gap: 12px;\n",
              "    }\n",
              "\n",
              "    .colab-df-convert {\n",
              "      background-color: #E8F0FE;\n",
              "      border: none;\n",
              "      border-radius: 50%;\n",
              "      cursor: pointer;\n",
              "      display: none;\n",
              "      fill: #1967D2;\n",
              "      height: 32px;\n",
              "      padding: 0 0 0 0;\n",
              "      width: 32px;\n",
              "    }\n",
              "\n",
              "    .colab-df-convert:hover {\n",
              "      background-color: #E2EBFA;\n",
              "      box-shadow: 0px 1px 2px rgba(60, 64, 67, 0.3), 0px 1px 3px 1px rgba(60, 64, 67, 0.15);\n",
              "      fill: #174EA6;\n",
              "    }\n",
              "\n",
              "    [theme=dark] .colab-df-convert {\n",
              "      background-color: #3B4455;\n",
              "      fill: #D2E3FC;\n",
              "    }\n",
              "\n",
              "    [theme=dark] .colab-df-convert:hover {\n",
              "      background-color: #434B5C;\n",
              "      box-shadow: 0px 1px 3px 1px rgba(0, 0, 0, 0.15);\n",
              "      filter: drop-shadow(0px 1px 2px rgba(0, 0, 0, 0.3));\n",
              "      fill: #FFFFFF;\n",
              "    }\n",
              "  </style>\n",
              "\n",
              "      <script>\n",
              "        const buttonEl =\n",
              "          document.querySelector('#df-ceffb7ae-63d4-45a8-b3ff-25a570de036e button.colab-df-convert');\n",
              "        buttonEl.style.display =\n",
              "          google.colab.kernel.accessAllowed ? 'block' : 'none';\n",
              "\n",
              "        async function convertToInteractive(key) {\n",
              "          const element = document.querySelector('#df-ceffb7ae-63d4-45a8-b3ff-25a570de036e');\n",
              "          const dataTable =\n",
              "            await google.colab.kernel.invokeFunction('convertToInteractive',\n",
              "                                                     [key], {});\n",
              "          if (!dataTable) return;\n",
              "\n",
              "          const docLinkHtml = 'Like what you see? Visit the ' +\n",
              "            '<a target=\"_blank\" href=https://colab.research.google.com/notebooks/data_table.ipynb>data table notebook</a>'\n",
              "            + ' to learn more about interactive tables.';\n",
              "          element.innerHTML = '';\n",
              "          dataTable['output_type'] = 'display_data';\n",
              "          await google.colab.output.renderOutput(dataTable, element);\n",
              "          const docLink = document.createElement('div');\n",
              "          docLink.innerHTML = docLinkHtml;\n",
              "          element.appendChild(docLink);\n",
              "        }\n",
              "      </script>\n",
              "    </div>\n",
              "  </div>\n",
              "  "
            ]
          },
          "metadata": {},
          "execution_count": 26
        }
      ]
    },
    {
      "cell_type": "markdown",
      "source": [
        "# Exploratory data analysis"
      ],
      "metadata": {
        "id": "yJYn2oS-R7_y"
      }
    },
    {
      "cell_type": "code",
      "source": [
        "train.info()"
      ],
      "metadata": {
        "id": "Y2caticZSp9x",
        "colab": {
          "base_uri": "https://localhost:8080/"
        },
        "outputId": "bcca6780-233b-4b9a-f499-c2bb6aeea1a9"
      },
      "execution_count": 27,
      "outputs": [
        {
          "output_type": "stream",
          "name": "stdout",
          "text": [
            "<class 'pandas.core.frame.DataFrame'>\n",
            "RangeIndex: 12120 entries, 0 to 12119\n",
            "Data columns (total 6 columns):\n",
            " #   Column      Non-Null Count  Dtype \n",
            "---  ------      --------------  ----- \n",
            " 0   id          12120 non-null  object\n",
            " 1   premise     12120 non-null  object\n",
            " 2   hypothesis  12120 non-null  object\n",
            " 3   lang_abv    12120 non-null  object\n",
            " 4   language    12120 non-null  object\n",
            " 5   label       12120 non-null  int64 \n",
            "dtypes: int64(1), object(5)\n",
            "memory usage: 568.2+ KB\n"
          ]
        }
      ]
    },
    {
      "cell_type": "code",
      "source": [],
      "metadata": {
        "id": "zU4bwkeaWUjl"
      },
      "execution_count": null,
      "outputs": []
    },
    {
      "cell_type": "markdown",
      "source": [
        "# Preparing data for input"
      ],
      "metadata": {
        "id": "9Epj0s6wTT5w"
      }
    },
    {
      "cell_type": "code",
      "source": [
        "#strip\n",
        "#removes all the whitespaces at the beginning and the end of a string\n",
        "texts = [\n",
        "    '   Bonjour, comment ca va ?     ',\n",
        "    '    Heyyyyy, how are you doing ?   ',\n",
        "    '        Hallo, wie gehts ?     '\n",
        "]\n",
        "[text.strip() for text in texts]"
      ],
      "metadata": {
        "id": "5nHmrMvbT_8Q"
      },
      "execution_count": null,
      "outputs": []
    },
    {
      "cell_type": "code",
      "source": [
        "#replace\n",
        "text = \"I love koalas, koalas are the cutest animals on Earth.\"\n",
        "text.replace(\"koala\", \"panda\")"
      ],
      "metadata": {
        "id": "CPR4GulpUBWl"
      },
      "execution_count": null,
      "outputs": []
    },
    {
      "cell_type": "code",
      "source": [
        "#splitting\n",
        "text = \"linkin park / metallica /red hot chili peppers\"\n",
        "text.split(\"/\")"
      ],
      "metadata": {
        "id": "OKxcrVsZVVLf"
      },
      "execution_count": null,
      "outputs": []
    },
    {
      "cell_type": "code",
      "source": [
        "#lowercase\n",
        "text = \"i LOVE football sO mUch. FOOTBALL is my passion. Who else loves fOOtBaLL ?\"\n",
        "text.lower() "
      ],
      "metadata": {
        "id": "8_t-cN7NVW-R"
      },
      "execution_count": null,
      "outputs": []
    },
    {
      "cell_type": "code",
      "source": [
        "#dealing with numbers, punctuation, and symbols\n",
        "\n",
        "#numbers\n",
        "text = \"i do not recommend this restaurant, we waited for so long, like 30 minutes, this is ridiculous\"\n",
        "cleaned_text = ''.join(char for char in text if not char.isdigit())\n",
        "\n",
        "#punctuation and symbols\n",
        "import string # \"string\" module is already installed with Python\n",
        "string.punctuation\n",
        "for punctuation in string.punctuation:\n",
        "    text = text.replace(punctuation, '') \n",
        "\n"
      ],
      "metadata": {
        "id": "G-XztAypVZJD"
      },
      "execution_count": null,
      "outputs": []
    },
    {
      "cell_type": "code",
      "source": [
        "#tokeninzing\n",
        "text = 'It is during our darkest moments that we must focus to see the light'\n",
        "from nltk.tokenize import word_tokenize\n",
        "word_tokens = word_tokenize(text)"
      ],
      "metadata": {
        "id": "fZlEAwo1VeSu"
      },
      "execution_count": null,
      "outputs": []
    },
    {
      "cell_type": "code",
      "source": [
        "#removing stopwords\n",
        "from nltk.corpus import stopwords \n",
        "\n",
        "tokens = [\"i\", \"am\", \"going\", \"to\", \"go\", \"to\", \"the\", \n",
        "        \"club\", \"and\", \"party\", \"all\", \"night\", \"long\"]\n",
        "\n",
        "stop_words = set(stopwords.words('english')) \n",
        "tokens_cleaned = [w for w in tokens if not w in stop_words] "
      ],
      "metadata": {
        "id": "Er23yMv6VjHi"
      },
      "execution_count": null,
      "outputs": []
    },
    {
      "cell_type": "code",
      "source": [
        "#Lemmatizing\n",
        "#Lemmatizing is a technique used to find the root of words, in order to group them by their meaning rather than by their exact form\n",
        "\n",
        "# Lemmatizing the verbs\n",
        "verb_lemmatized = [                  \n",
        "    WordNetLemmatizer().lemmatize(word, pos = \"v\") # v --> verbs\n",
        "    for word in tokenized_sentence_no_stopwords\n",
        "]\n",
        "\n",
        "# 2 - Lemmatizing the nouns\n",
        "noun_lemmatized = [                 \n",
        "    WordNetLemmatizer().lemmatize(word, pos = \"n\") # n --> nouns\n",
        "    for word in verb_lemmatized\n",
        "]"
      ],
      "metadata": {
        "id": "9uzSLZWwWzkg"
      },
      "execution_count": null,
      "outputs": []
    },
    {
      "cell_type": "markdown",
      "source": [
        "# High dimensional Embedding? or convert tokens to ids"
      ],
      "metadata": {
        "id": "BUSynbhMUCdL"
      }
    },
    {
      "cell_type": "code",
      "source": [
        "#Embedding : Each word is represented by a vector of chosen length"
      ],
      "metadata": {
        "id": "nuYs1qK7YWa6"
      },
      "execution_count": 6,
      "outputs": []
    },
    {
      "cell_type": "code",
      "source": [],
      "metadata": {
        "id": "1_bbPJPTZD1z"
      },
      "execution_count": null,
      "outputs": []
    },
    {
      "cell_type": "markdown",
      "source": [
        "# Build and train Model"
      ],
      "metadata": {
        "id": "hNg8CJDKeQys"
      }
    },
    {
      "cell_type": "code",
      "source": [
        "# train test split\n"
      ],
      "metadata": {
        "id": "qLjlOfE8eSnF"
      },
      "execution_count": null,
      "outputs": []
    },
    {
      "cell_type": "code",
      "source": [
        "# train model\n"
      ],
      "metadata": {
        "id": "KW1-TU6QLT5S"
      },
      "execution_count": null,
      "outputs": []
    },
    {
      "cell_type": "code",
      "source": [
        "# test model accuracy (and choose the best model)"
      ],
      "metadata": {
        "id": "0TdQ8gitLT_r"
      },
      "execution_count": null,
      "outputs": []
    },
    {
      "cell_type": "markdown",
      "source": [
        "# Predict results and submit csv"
      ],
      "metadata": {
        "id": "ePIkX41PKFad"
      }
    },
    {
      "cell_type": "code",
      "source": [],
      "metadata": {
        "id": "tYMx0SHnMFnr"
      },
      "execution_count": null,
      "outputs": []
    }
  ]
}